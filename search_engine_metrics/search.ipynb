{
 "cells": [
  {
   "cell_type": "code",
   "execution_count": 1,
   "id": "a44fd8cd",
   "metadata": {},
   "outputs": [],
   "source": [
    "import pandas as pd\n",
    "import boto3\n",
    "from data_patterns import PatternMatch as pm\n",
    "from parse_metrics import SearchEngine as se"
   ]
  },
  {
   "cell_type": "code",
   "execution_count": 2,
   "id": "53328704",
   "metadata": {},
   "outputs": [],
   "source": [
    "metrics_df = se('s3://r2d6/data.tsv')"
   ]
  },
  {
   "cell_type": "code",
   "execution_count": 3,
   "id": "aef1c6ea",
   "metadata": {},
   "outputs": [],
   "source": [
    "metrics_df.get_domain().get_revenue().get_keywords()"
   ]
  },
  {
   "cell_type": "code",
   "execution_count": 5,
   "id": "d359e187",
   "metadata": {},
   "outputs": [],
   "source": [
    "sample = metrics_df.data[['Search Engine Domain', 'Search Keyword', 'Revenue']]\\\n",
    "            .groupby(['Search Engine Domain', 'Search Keyword']).sum('Revenue')\\\n",
    "            .reset_index().sort_values(by=['Revenue'], ascending=False)"
   ]
  },
  {
   "cell_type": "code",
   "execution_count": 6,
   "id": "2ccab690",
   "metadata": {},
   "outputs": [],
   "source": [
    "sample = sample[sample['Search Engine Domain'] != 'esshopzilla']"
   ]
  },
  {
   "cell_type": "code",
   "execution_count": 7,
   "id": "d6e739ed",
   "metadata": {},
   "outputs": [
    {
     "data": {
      "text/html": [
       "<div>\n",
       "<style scoped>\n",
       "    .dataframe tbody tr th:only-of-type {\n",
       "        vertical-align: middle;\n",
       "    }\n",
       "\n",
       "    .dataframe tbody tr th {\n",
       "        vertical-align: top;\n",
       "    }\n",
       "\n",
       "    .dataframe thead th {\n",
       "        text-align: right;\n",
       "    }\n",
       "</style>\n",
       "<table border=\"1\" class=\"dataframe\">\n",
       "  <thead>\n",
       "    <tr style=\"text-align: right;\">\n",
       "      <th></th>\n",
       "      <th>Search Engine Domain</th>\n",
       "      <th>Search Keyword</th>\n",
       "      <th>Revenue</th>\n",
       "    </tr>\n",
       "  </thead>\n",
       "  <tbody>\n",
       "    <tr>\n",
       "      <th>0</th>\n",
       "      <td>bing</td>\n",
       "      <td>zune</td>\n",
       "      <td>0</td>\n",
       "    </tr>\n",
       "    <tr>\n",
       "      <th>2</th>\n",
       "      <td>google</td>\n",
       "      <td>ipod</td>\n",
       "      <td>0</td>\n",
       "    </tr>\n",
       "    <tr>\n",
       "      <th>3</th>\n",
       "      <td>yahoo</td>\n",
       "      <td></td>\n",
       "      <td>0</td>\n",
       "    </tr>\n",
       "  </tbody>\n",
       "</table>\n",
       "</div>"
      ],
      "text/plain": [
       "  Search Engine Domain Search Keyword  Revenue\n",
       "0                 bing           zune        0\n",
       "2               google           ipod        0\n",
       "3                yahoo                       0"
      ]
     },
     "execution_count": 7,
     "metadata": {},
     "output_type": "execute_result"
    }
   ],
   "source": [
    "sample"
   ]
  },
  {
   "cell_type": "code",
   "execution_count": 8,
   "id": "71b8651b",
   "metadata": {},
   "outputs": [
    {
     "data": {
      "text/plain": [
       "{'paths': ['s3://r2d6/sample.tab'], 'partitions_values': {}}"
      ]
     },
     "execution_count": 8,
     "metadata": {},
     "output_type": "execute_result"
    }
   ],
   "source": [
    "metrics_df.write_to_s3(sample, 's3://r2d6/sample.tab')"
   ]
  },
  {
   "cell_type": "code",
   "execution_count": 11,
   "id": "54d81dab",
   "metadata": {},
   "outputs": [],
   "source": [
    "def parse_product(value):\n",
    "    if value:\n",
    "        return str(value).split(\",\")\n",
    "    else:\n",
    "        return []"
   ]
  },
  {
   "cell_type": "code",
   "execution_count": 12,
   "id": "5f2e37ac",
   "metadata": {},
   "outputs": [
    {
     "data": {
      "text/plain": [
       "0                                        [nan]\n",
       "1               [Electronics;Zune - 328GB;1;;]\n",
       "2                                        [nan]\n",
       "3                                        [nan]\n",
       "4                                        [nan]\n",
       "5                                        [nan]\n",
       "6          [Electronics;Ipod - Nano - 8GB;1;;]\n",
       "7          [Electronics;Ipod - Nano - 8GB;1;;]\n",
       "8                                        [nan]\n",
       "9                                        [nan]\n",
       "10                                       [nan]\n",
       "11                                       [nan]\n",
       "12                                       [nan]\n",
       "13       [Electronics;Ipod - Touch - 32GB;1;;]\n",
       "14            [Electronics;Zune - 32GB;1;250;]\n",
       "15                                       [nan]\n",
       "16                                       [nan]\n",
       "17      [Electronics;Ipod - Nano - 8GB;1;190;]\n",
       "18                                       [nan]\n",
       "19                                       [nan]\n",
       "20    [Electronics;Ipod - Touch - 32GB;1;290;]\n",
       "Name: product_list, dtype: object"
      ]
     },
     "execution_count": 12,
     "metadata": {},
     "output_type": "execute_result"
    }
   ],
   "source": [
    "metrics_df['product_list'].apply(lambda x: parse_product(x))"
   ]
  },
  {
   "cell_type": "code",
   "execution_count": null,
   "id": "674bc477",
   "metadata": {},
   "outputs": [],
   "source": []
  }
 ],
 "metadata": {
  "kernelspec": {
   "display_name": "Python 3.8.0 ('base')",
   "language": "python",
   "name": "python3"
  },
  "language_info": {
   "codemirror_mode": {
    "name": "ipython",
    "version": 3
   },
   "file_extension": ".py",
   "mimetype": "text/x-python",
   "name": "python",
   "nbconvert_exporter": "python",
   "pygments_lexer": "ipython3",
   "version": "3.8.0"
  },
  "vscode": {
   "interpreter": {
    "hash": "56eff5c0164b8ea6833a0a96d66ea8ccfbe2dec78b30fbf76be0a4063225ce04"
   }
  }
 },
 "nbformat": 4,
 "nbformat_minor": 5
}
