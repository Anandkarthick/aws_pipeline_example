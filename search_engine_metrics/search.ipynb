{
 "cells": [
  {
   "cell_type": "code",
   "execution_count": 34,
   "id": "e6d5338c",
   "metadata": {},
   "outputs": [],
   "source": [
    "import pandas as pd\n",
    "import boto3\n",
    "from data_patterns import PatternMatch as pm\n",
    "from parse_metrics import SearchEngine as se"
   ]
  },
  {
   "cell_type": "code",
   "execution_count": 35,
   "id": "d77e74fd",
   "metadata": {},
   "outputs": [],
   "source": [
    "metrics_df = pd.read_csv('data.tsv', sep='\\t')"
   ]
  },
  {
   "cell_type": "code",
   "execution_count": 31,
   "id": "0a885f00",
   "metadata": {},
   "outputs": [],
   "source": [
    "def url_extract(value):\n",
    "    response = re.findall(r'httfp:\\/\\/.+?\\/', value)\n",
    "    search_response = re.findall(r'http:\\/\\/.+?\\/search', value)\n",
    "    search_query = re.findall(r'[a-z]=.+?&', value)\n",
    "    domain = re.findall(r'\\.([^\\.]+)\\.', value)\n",
    "    print(response, search_response, search_query, domain)"
   ]
  },
  {
   "cell_type": "code",
   "execution_count": 32,
   "id": "9f2b080d",
   "metadata": {},
   "outputs": [
    {
     "name": "stdout",
     "output_type": "stream",
     "text": [
      "[] ['http://www.google.com/search'] ['l=en&', 't=firefox-a&', 's=org.mozilla%3Aen-US%3Aofficial&', 's=ZzP&', 'q=Ipod&', 'q=f&'] ['google']\n"
     ]
    }
   ],
   "source": [
    "url_extract('http://www.google.com/search?hl=en&client=firefox-a&rls=org.mozilla%3Aen-US%3Aofficial&hs=ZzP&q=Ipod&aq=f&oq=&aqi=')"
   ]
  },
  {
   "cell_type": "code",
   "execution_count": 33,
   "id": "5b51c232",
   "metadata": {},
   "outputs": [
    {
     "name": "stdout",
     "output_type": "stream",
     "text": [
      "[] ['http://www.bing.com/search'] ['q=Zune&', 'o=&form=QBLH&'] ['bing']\n"
     ]
    }
   ],
   "source": [
    "url_extract('http://www.bing.com/search?q=Zune&go=&form=QBLH&qs=n')"
   ]
  },
  {
   "cell_type": "code",
   "execution_count": 30,
   "id": "7cd773c4",
   "metadata": {},
   "outputs": [
    {
     "data": {
      "text/plain": [
       "0          [http://www.google.com/]\n",
       "1            [http://www.bing.com/]\n",
       "2        [http://search.yahoo.com/]\n",
       "3          [http://www.google.com/]\n",
       "4                                []\n",
       "5     [http://www.esshopzilla.com/]\n",
       "6     [http://www.esshopzilla.com/]\n",
       "7     [http://www.esshopzilla.com/]\n",
       "8     [http://www.esshopzilla.com/]\n",
       "9     [http://www.esshopzilla.com/]\n",
       "10    [http://www.esshopzilla.com/]\n",
       "11                               []\n",
       "12    [http://www.esshopzilla.com/]\n",
       "13    [http://www.esshopzilla.com/]\n",
       "14                               []\n",
       "15                               []\n",
       "16    [http://www.esshopzilla.com/]\n",
       "17                               []\n",
       "18    [http://www.esshopzilla.com/]\n",
       "19                               []\n",
       "20                               []\n",
       "Name: referrer, dtype: object"
      ]
     },
     "execution_count": 30,
     "metadata": {},
     "output_type": "execute_result"
    }
   ],
   "source": [
    "metrics_df['referrer'].apply(lambda x: pm(x).extract_url())"
   ]
  },
  {
   "cell_type": "code",
   "execution_count": 11,
   "id": "e4250dfe",
   "metadata": {},
   "outputs": [],
   "source": [
    "def parse_product(value):\n",
    "    if value:\n",
    "        return str(value).split(\",\")\n",
    "    else:\n",
    "        return []"
   ]
  },
  {
   "cell_type": "code",
   "execution_count": 12,
   "id": "b2c8601b",
   "metadata": {},
   "outputs": [
    {
     "data": {
      "text/plain": [
       "0                                        [nan]\n",
       "1               [Electronics;Zune - 328GB;1;;]\n",
       "2                                        [nan]\n",
       "3                                        [nan]\n",
       "4                                        [nan]\n",
       "5                                        [nan]\n",
       "6          [Electronics;Ipod - Nano - 8GB;1;;]\n",
       "7          [Electronics;Ipod - Nano - 8GB;1;;]\n",
       "8                                        [nan]\n",
       "9                                        [nan]\n",
       "10                                       [nan]\n",
       "11                                       [nan]\n",
       "12                                       [nan]\n",
       "13       [Electronics;Ipod - Touch - 32GB;1;;]\n",
       "14            [Electronics;Zune - 32GB;1;250;]\n",
       "15                                       [nan]\n",
       "16                                       [nan]\n",
       "17      [Electronics;Ipod - Nano - 8GB;1;190;]\n",
       "18                                       [nan]\n",
       "19                                       [nan]\n",
       "20    [Electronics;Ipod - Touch - 32GB;1;290;]\n",
       "Name: product_list, dtype: object"
      ]
     },
     "execution_count": 12,
     "metadata": {},
     "output_type": "execute_result"
    }
   ],
   "source": [
    "metrics_df['product_list'].apply(lambda x: parse_product(x))"
   ]
  },
  {
   "cell_type": "code",
   "execution_count": null,
   "id": "1802911e",
   "metadata": {},
   "outputs": [],
   "source": []
  }
 ],
 "metadata": {
  "kernelspec": {
   "display_name": "Python 3 (ipykernel)",
   "language": "python",
   "name": "python3"
  },
  "language_info": {
   "codemirror_mode": {
    "name": "ipython",
    "version": 3
   },
   "file_extension": ".py",
   "mimetype": "text/x-python",
   "name": "python",
   "nbconvert_exporter": "python",
   "pygments_lexer": "ipython3",
   "version": "3.8.0"
  }
 },
 "nbformat": 4,
 "nbformat_minor": 5
}
